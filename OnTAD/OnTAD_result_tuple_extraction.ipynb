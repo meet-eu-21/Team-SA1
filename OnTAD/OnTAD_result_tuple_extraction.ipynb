{
 "cells": [
  {
   "cell_type": "code",
   "execution_count": 3,
   "id": "cd09fd4a",
   "metadata": {},
   "outputs": [],
   "source": [
    "import numpy as np\n",
    "import pandas as pd"
   ]
  },
  {
   "cell_type": "code",
   "execution_count": 21,
   "id": "cea89fd0",
   "metadata": {},
   "outputs": [
    {
     "data": {
      "text/html": [
       "<div>\n",
       "<style scoped>\n",
       "    .dataframe tbody tr th:only-of-type {\n",
       "        vertical-align: middle;\n",
       "    }\n",
       "\n",
       "    .dataframe tbody tr th {\n",
       "        vertical-align: top;\n",
       "    }\n",
       "\n",
       "    .dataframe thead th {\n",
       "        text-align: right;\n",
       "    }\n",
       "</style>\n",
       "<table border=\"1\" class=\"dataframe\">\n",
       "  <thead>\n",
       "    <tr style=\"text-align: right;\">\n",
       "      <th></th>\n",
       "      <th>startpos</th>\n",
       "      <th>endpos</th>\n",
       "      <th>TADlevel</th>\n",
       "      <th>TADmean</th>\n",
       "      <th>TADScore</th>\n",
       "    </tr>\n",
       "  </thead>\n",
       "  <tbody>\n",
       "    <tr>\n",
       "      <th>0</th>\n",
       "      <td>1</td>\n",
       "      <td>2493</td>\n",
       "      <td>0</td>\n",
       "      <td>0.275</td>\n",
       "      <td>80.689</td>\n",
       "    </tr>\n",
       "    <tr>\n",
       "      <th>1</th>\n",
       "      <td>19</td>\n",
       "      <td>80</td>\n",
       "      <td>1</td>\n",
       "      <td>2.204</td>\n",
       "      <td>4.874</td>\n",
       "    </tr>\n",
       "    <tr>\n",
       "      <th>2</th>\n",
       "      <td>19</td>\n",
       "      <td>68</td>\n",
       "      <td>2</td>\n",
       "      <td>2.431</td>\n",
       "      <td>3.992</td>\n",
       "    </tr>\n",
       "    <tr>\n",
       "      <th>3</th>\n",
       "      <td>19</td>\n",
       "      <td>60</td>\n",
       "      <td>3</td>\n",
       "      <td>2.603</td>\n",
       "      <td>2.731</td>\n",
       "    </tr>\n",
       "    <tr>\n",
       "      <th>4</th>\n",
       "      <td>26</td>\n",
       "      <td>60</td>\n",
       "      <td>4</td>\n",
       "      <td>3.037</td>\n",
       "      <td>1.654</td>\n",
       "    </tr>\n",
       "    <tr>\n",
       "      <th>...</th>\n",
       "      <td>...</td>\n",
       "      <td>...</td>\n",
       "      <td>...</td>\n",
       "      <td>...</td>\n",
       "      <td>...</td>\n",
       "    </tr>\n",
       "    <tr>\n",
       "      <th>182</th>\n",
       "      <td>2446</td>\n",
       "      <td>2478</td>\n",
       "      <td>2</td>\n",
       "      <td>1.631</td>\n",
       "      <td>1.741</td>\n",
       "    </tr>\n",
       "    <tr>\n",
       "      <th>183</th>\n",
       "      <td>2446</td>\n",
       "      <td>2467</td>\n",
       "      <td>3</td>\n",
       "      <td>1.677</td>\n",
       "      <td>1.406</td>\n",
       "    </tr>\n",
       "    <tr>\n",
       "      <th>184</th>\n",
       "      <td>2446</td>\n",
       "      <td>2453</td>\n",
       "      <td>4</td>\n",
       "      <td>1.475</td>\n",
       "      <td>0.312</td>\n",
       "    </tr>\n",
       "    <tr>\n",
       "      <th>185</th>\n",
       "      <td>2453</td>\n",
       "      <td>2467</td>\n",
       "      <td>4</td>\n",
       "      <td>2.121</td>\n",
       "      <td>0.622</td>\n",
       "    </tr>\n",
       "    <tr>\n",
       "      <th>186</th>\n",
       "      <td>2467</td>\n",
       "      <td>2478</td>\n",
       "      <td>3</td>\n",
       "      <td>1.213</td>\n",
       "      <td>0.024</td>\n",
       "    </tr>\n",
       "  </tbody>\n",
       "</table>\n",
       "<p>187 rows × 5 columns</p>\n",
       "</div>"
      ],
      "text/plain": [
       "     startpos  endpos  TADlevel  TADmean  TADScore\n",
       "0           1    2493         0    0.275    80.689\n",
       "1          19      80         1    2.204     4.874\n",
       "2          19      68         2    2.431     3.992\n",
       "3          19      60         3    2.603     2.731\n",
       "4          26      60         4    3.037     1.654\n",
       "..        ...     ...       ...      ...       ...\n",
       "182      2446    2478         2    1.631     1.741\n",
       "183      2446    2467         3    1.677     1.406\n",
       "184      2446    2453         4    1.475     0.312\n",
       "185      2453    2467         4    2.121     0.622\n",
       "186      2467    2478         3    1.213     0.024\n",
       "\n",
       "[187 rows x 5 columns]"
      ]
     },
     "execution_count": 21,
     "metadata": {},
     "output_type": "execute_result"
    }
   ],
   "source": [
    "# READ IN OUTPUT AS CSV AND PUT INTO A DATAFRAME\n",
    "data = pd.read_csv('outputs/OnTAD_KRnorm_pen0.1_max200_chr1_100kb.tad',sep=\"\\t\",header=None, names=[\"startpos\", \"endpos\", \"TADlevel\", \"TADmean\", \"TADScore\"])\n",
    "data\n",
    "#data.loc[:, [\"startpos\", \"endpos\"]] # => only consider start and end positions of TAD detected"
   ]
  },
  {
   "cell_type": "code",
   "execution_count": 39,
   "id": "f159917f",
   "metadata": {},
   "outputs": [
    {
     "name": "stdout",
     "output_type": "stream",
     "text": [
      "(1.0, 2493.0)\n"
     ]
    }
   ],
   "source": [
    "# CONVERT DT TO NP ARRAY AND EXTRACT TAD START AND END POSITIONS AS LIST OF TUPLES\n",
    "np_data = data.to_numpy()       # convert df to numpy array\n",
    " \n",
    "positions = []                  # initialise empty list to store list of tuples \n",
    "\n",
    "for row in np_data:\n",
    "  positions.append(tuple(row[0:2]))    # keep start and end positions\n",
    "\n",
    "print(positions[0])"
   ]
  },
  {
   "cell_type": "code",
   "execution_count": 40,
   "id": "b40a0beb",
   "metadata": {},
   "outputs": [
    {
     "name": "stdout",
     "output_type": "stream",
     "text": [
      "(1.0, 2493.0)\n"
     ]
    }
   ],
   "source": [
    "# GENERAL FUNCTION TO RUN ON OUTPUT .TAD FILES\n",
    "\n",
    "example_tadfile = 'outputs/OnTAD_KRnorm_pen0.1_max200_chr1_100kb.tad'\n",
    "\n",
    "def ontad_to_tuple_list(tadfile):\n",
    "\n",
    "    pd_ontad = pd.read_csv(tadfile,sep=\"\\t\",header=None, names=[\"startpos\", \"endpos\", \"TADlevel\", \"TADmean\", \"TADScore\"])\n",
    "    np_ontad = pd_ontad.to_numpy()\n",
    "\n",
    "    positions = []\n",
    "    for row in np_ontad:\n",
    "        positions.append(tuple(row[0:2]))\n",
    "\n",
    "    return positions\n",
    "\n",
    "examples_tuple_list = ontad_to_tuple_list(example_tadfile)\n",
    "print(examples_tuple_list[0])"
   ]
  }
 ],
 "metadata": {
  "interpreter": {
   "hash": "782c22fe804219d0efc8b6a6710c898e76297772c4193a1a859d535265008851"
  },
  "kernelspec": {
   "display_name": "Python 3.9.7 64-bit ('base': conda)",
   "language": "python",
   "name": "python3"
  },
  "language_info": {
   "codemirror_mode": {
    "name": "ipython",
    "version": 3
   },
   "file_extension": ".py",
   "mimetype": "text/x-python",
   "name": "python",
   "nbconvert_exporter": "python",
   "pygments_lexer": "ipython3",
   "version": "3.9.7"
  }
 },
 "nbformat": 4,
 "nbformat_minor": 5
}
