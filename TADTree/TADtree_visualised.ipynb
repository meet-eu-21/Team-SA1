{
 "cells": [
  {
   "cell_type": "markdown",
   "id": "81e30cef",
   "metadata": {},
   "source": [
    "### TADTree visualised\n",
    "TADTree is a pipeline developed for similar purposes as Topdom and Arrowhead - TAD (Topologically Associated Domain) detection.\n",
    "This notebook serves the purpose of visualising and presenting the code adapted for the uses of Sorbonne team 1 for TAD (SA1). This should ideally be useful for all team members and anyone interested in looking through our project files. - Yann"
   ]
  },
  {
   "cell_type": "code",
   "execution_count": 1,
   "id": "73564d62",
   "metadata": {},
   "outputs": [],
   "source": [
    "### IMPORTS NECESSARY FOR TADTREE\n",
    "import liam_method"
   ]
  },
  {
   "cell_type": "code",
   "execution_count": 25,
   "id": "281474a8",
   "metadata": {},
   "outputs": [],
   "source": [
    "### PREPROCESSING 1\n",
    "\n",
    "liam_method.preprocess_data('matrix', 100000)    \n",
    "# Preprocess all the data in the \"matrix\" folder.\n",
    "# Note that the matrix folder must initially only contain a file of the type \"chr1_100kb.RAWobserved.txt\".\n",
    "# This function produces two additional files: an npy file, and a txt file of the type \"chr1_100kb.npy\" and \"chr1_100kb.txt\"\n",
    "# Once this function has been run, don't run again."
   ]
  },
  {
   "cell_type": "code",
   "execution_count": 2,
   "id": "0b00c3a1",
   "metadata": {},
   "outputs": [],
   "source": [
    "### RUNNING TADTREE\n",
    "\n",
    "liam_method.do_TADtree('TADtree.py', 'matrix', ['chr1_100kb.txt'], ['chr1'])"
   ]
  }
 ],
 "metadata": {
  "kernelspec": {
   "display_name": "Python 3 (ipykernel)",
   "language": "python",
   "name": "python3"
  },
  "language_info": {
   "codemirror_mode": {
    "name": "ipython",
    "version": 3
   },
   "file_extension": ".py",
   "mimetype": "text/x-python",
   "name": "python",
   "nbconvert_exporter": "python",
   "pygments_lexer": "ipython3",
   "version": "3.9.7"
  }
 },
 "nbformat": 4,
 "nbformat_minor": 5
}
