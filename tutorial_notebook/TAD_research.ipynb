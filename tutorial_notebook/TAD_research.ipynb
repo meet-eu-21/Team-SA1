{
 "cells": [
  {
   "cell_type": "code",
   "execution_count": 1,
   "id": "7d61337f",
   "metadata": {},
   "outputs": [],
   "source": [
    "from src.data import HiCDataset\n",
    "import src.utils\n",
    "import src.metrics\n",
    "import src.tad_algo\n",
    "from src.tuning import tune_topdom, tune_tadtree\n",
    "from src.tad_algo import TopDom, TADtree, OnTAD, TADbit\n",
    "from src.utils import read_arrowhead_result\n",
    "from src.metrics import compare_to_groundtruth\n",
    "from src.consensus import ScoreConsensus"
   ]
  },
  {
   "cell_type": "markdown",
   "id": "de0332ea",
   "metadata": {},
   "source": [
    "# Preparation of the dataset"
   ]
  },
  {
   "cell_type": "markdown",
   "id": "a2aeb098",
   "metadata": {},
   "source": [
    "### Preprocessing and split between development set and test set"
   ]
  },
  {
   "cell_type": "code",
   "execution_count": 2,
   "id": "4f062b14",
   "metadata": {},
   "outputs": [],
   "source": [
    "dataset = HiCDataset(data_folder='data')\n",
    "dataset.build_data_dict()"
   ]
  },
  {
   "cell_type": "code",
   "execution_count": 5,
   "id": "d16090d9",
   "metadata": {},
   "outputs": [],
   "source": [
    "development_set, test_set = dataset.split(dev_ratio = 0.7, test_ratio=0.3)"
   ]
  },
  {
   "cell_type": "code",
   "execution_count": 4,
   "id": "b5ee25ca",
   "metadata": {},
   "outputs": [
    {
     "name": "stdout",
     "output_type": "stream",
     "text": [
      "{<class 'src.tad_algo.TADtree'>: [], <class 'src.tad_algo.TopDom'>: [0.0, 0.0, 0.0, 0.0, 0.0, 0.0, 0.0, 0.0, 0.0, 0.0], 'arrowhead': [], <class 'src.tad_algo.OnTAD'>: [0.0, 0.0, 0.0, 0.0, 0.0, 0.0, 0.0, 0.0, 0.0, 0.0], <class 'src.tad_algo.TADbit'>: []}\n",
      "{<class 'src.tad_algo.TADtree'>: [], <class 'src.tad_algo.TopDom'>: [], 'arrowhead': [], <class 'src.tad_algo.OnTAD'>: [], <class 'src.tad_algo.TADbit'>: []}\n"
     ]
    },
    {
     "name": "stderr",
     "output_type": "stream",
     "text": [
      "C:\\ProgramData\\Anaconda3\\envs\\meet-u\\lib\\site-packages\\numpy\\core\\fromnumeric.py:3474: RuntimeWarning: Mean of empty slice.\n",
      "  return _methods._mean(a, axis=axis, dtype=dtype,\n",
      "C:\\ProgramData\\Anaconda3\\envs\\meet-u\\lib\\site-packages\\numpy\\core\\_methods.py:189: RuntimeWarning: invalid value encountered in double_scalars\n",
      "  ret = ret.dtype.type(ret / rcount)\n"
     ]
    }
   ],
   "source": [
    "consensus_method = ScoreConsensus()\n",
    "consensus_method.evaluateAlgorithmScore(development_set[:10])"
   ]
  },
  {
   "cell_type": "code",
   "execution_count": 5,
   "id": "9047e7ef",
   "metadata": {},
   "outputs": [
    {
     "data": {
      "text/plain": [
       "160"
      ]
     },
     "execution_count": 5,
     "metadata": {},
     "output_type": "execute_result"
    }
   ],
   "source": [
    "len(development_set)"
   ]
  }
 ],
 "metadata": {
  "kernelspec": {
   "display_name": "Python 3 (ipykernel)",
   "language": "python",
   "name": "python3"
  },
  "language_info": {
   "codemirror_mode": {
    "name": "ipython",
    "version": 3
   },
   "file_extension": ".py",
   "mimetype": "text/x-python",
   "name": "python",
   "nbconvert_exporter": "python",
   "pygments_lexer": "ipython3",
   "version": "3.10.1"
  }
 },
 "nbformat": 4,
 "nbformat_minor": 5
}
