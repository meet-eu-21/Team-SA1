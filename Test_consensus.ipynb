{
 "cells": [
  {
   "cell_type": "code",
   "execution_count": 1,
   "metadata": {},
   "outputs": [],
   "source": [
    "import numpy as np\n",
    "import pandas as pd\n",
    "import os, time, logging\n",
    "import matplotlib.pyplot as plt\n",
    "from IPython.display import clear_output\n",
    "from src.data import Hicmat, plot_data, preprocess_data\n",
    "from src.tad_algo import TopDom, TADtree\n",
    "from src.consensus import *\n",
    "from src.ctcf import *\n",
    "from src.utils import *"
   ]
  },
  {
   "cell_type": "markdown",
   "metadata": {},
   "source": [
    "# Load files and prepare displaying"
   ]
  },
  {
   "cell_type": "code",
   "execution_count": 50,
   "metadata": {},
   "outputs": [],
   "source": [
    "resolution=25000"
   ]
  },
  {
   "cell_type": "code",
   "execution_count": 3,
   "metadata": {},
   "outputs": [],
   "source": [
    "tads_by_tadtree = (pd.read_csv('N399.txt', delimiter='\\t')).iloc[:, [1,2]]\n",
    "tadtree = [(tads_by_tadtree['start'][i], tads_by_tadtree['end'][i]) for i in range(len(tads_by_tadtree['start']))]"
   ]
  },
  {
   "cell_type": "code",
   "execution_count": 51,
   "metadata": {},
   "outputs": [
    {
     "name": "stdout",
     "output_type": "stream",
     "text": [
      "TopDom Step 1 : Generating binSignals by computing bin-level contact frequencies\n",
      "TopDom Step 2 : Detect TD boundaries based on binSignals\n",
      "TopDom Step 3 : Statistical Filtering of false positive TD boundaries\n",
      "TopDom : Exporting TADs\n"
     ]
    }
   ],
   "source": [
    "folder = os.path.join('..', 'CHROMOSOMES', 'GM12878', '100kb')\n",
    "data_path = os.path.join(folder, 'chr1_100kb.npy')\n",
    "if not os.path.isfile(data_path):\n",
    "    preprocess_data(folder, resolution)\n",
    "hic_mat = Hicmat(data_path, resolution)\n",
    "hic_mat.filter(threshold = 1)\n",
    "topdom = TopDom()\n",
    "topdom = topdom.getTADs(hic_mat, window=3)\n",
    "for i in range(len(topdom)):\n",
    "    topdom[i]=(int(topdom[i][0]/resolution), int(topdom[i][1]/resolution))"
   ]
  },
  {
   "cell_type": "code",
   "execution_count": 52,
   "metadata": {},
   "outputs": [],
   "source": [
    "fileCTCF = os.path.join('..', 'CTCF', 'ENCFF796WRU.bed')\n",
    "l_peak_GM = bedPicks(fileCTCF, 'chr1', resolution)[0]\n",
    "true_results = read_arrowhead_result(os.path.join('..', 'RESULTS', 'GSE63525_GM12878_primary+replicate_Arrowhead_domainlist.txt'), '1', resolution)"
   ]
  },
  {
   "cell_type": "markdown",
   "metadata": {},
   "source": [
    "# Test the consensus on tadtree+topdom"
   ]
  },
  {
   "cell_type": "code",
   "execution_count": 6,
   "metadata": {},
   "outputs": [],
   "source": [
    "tadtree_topdom = {'tadtree':tadtree, 'topdom':topdom}"
   ]
  },
  {
   "cell_type": "code",
   "execution_count": 19,
   "metadata": {
    "scrolled": true
   },
   "outputs": [
    {
     "name": "stdout",
     "output_type": "stream",
     "text": [
      "400 / 400\n"
     ]
    }
   ],
   "source": [
    "size = []\n",
    "nb_1 = []\n",
    "evaluation = []\n",
    "for threshold in range(400):\n",
    "    clear_output(wait=True)\n",
    "    print(threshold+1, '/ 400')\n",
    "    cons1 = consensus(tadtree_topdom, resolution, threshold)\n",
    "    size.append(len([tad[1]-tad[0] for tad in cons1.keys() if tad[1]-tad[0]==1])/max(1,len(cons1)))\n",
    "    #nb_1.append(len([tad[1]-tad[0] for tad in cons1.keys() if tad[1]-tad[0]==1]))\n",
    "    ev = evaluate(list(cons1.keys()), l_peak_GM)\n",
    "    if ev==0:\n",
    "        evaluation.append(100)\n",
    "    else:\n",
    "        evaluation.append(ev)"
   ]
  },
  {
   "cell_type": "code",
   "execution_count": 20,
   "metadata": {
    "scrolled": false
   },
   "outputs": [
    {
     "data": {
      "image/png": "[encoded data removed]",
      "text/plain": [
       "<Figure size 432x288 with 1 Axes>"
      ]
     },
     "metadata": {
      "needs_background": "light"
     },
     "output_type": "display_data"
    },
    {
     "data": {
      "image/png": "[encoded data removed]",
      "text/plain": [
       "<Figure size 432x288 with 1 Axes>"
      ]
     },
     "metadata": {
      "needs_background": "light"
     },
     "output_type": "display_data"
    }
   ],
   "source": [
    "plt.title('TADs detected according to the threshold')\n",
    "plt.plot(range(400), size)\n",
    "#plt.plot(range(400), nb_1)\n",
    "plt.xlabel('Threshold')\n",
    "plt.ylabel('Number of TADs detected')\n",
    "plt.show()\n",
    "plt.title('Correspondence with ctcf peaks')\n",
    "plt.plot(range(400), evaluation)\n",
    "plt.xlabel('Threshold')\n",
    "plt.ylabel('Boundaries presents in CTCF (%)')\n",
    "plt.show()"
   ]
  },
  {
   "cell_type": "code",
   "execution_count": 9,
   "metadata": {},
   "outputs": [
    {
     "data": {
      "text/plain": [
       "0"
      ]
     },
     "execution_count": 9,
     "metadata": {},
     "output_type": "execute_result"
    }
   ],
   "source": [
    "np.argmax(size)"
   ]
  },
  {
   "cell_type": "markdown",
   "metadata": {},
   "source": [
    "### Evaluation with a threshold = 110"
   ]
  },
  {
   "cell_type": "code",
   "execution_count": 40,
   "metadata": {},
   "outputs": [
    {
     "name": "stdout",
     "output_type": "stream",
     "text": [
      "TADs detected: 306\n",
      "Similarity rate with CTCF peaks: 84.23 %\n",
      "Average TAD size: 4.875816993464053\n"
     ]
    }
   ],
   "source": [
    "threshold = 94\n",
    "cons_topdom_tadtree = consensus(tadtree_topdom, resolution, threshold)\n",
    "print('TADs detected:', len(cons_topdom_tadtree))\n",
    "print('Similarity rate with CTCF peaks:', evaluate(cons_topdom_tadtree, l_peak_GM), '%')\n",
    "print('Average TAD size:', np.mean([tad[1]-tad[0] for tad in cons_topdom_tadtree]))"
   ]
  },
  {
   "cell_type": "code",
   "execution_count": 41,
   "metadata": {},
   "outputs": [
    {
     "data": {
      "text/plain": [
       "0.3431372549019608"
      ]
     },
     "execution_count": 41,
     "metadata": {},
     "output_type": "execute_result"
    }
   ],
   "source": [
    "len([tad[1]-tad[0] for tad in cons_topdom_tadtree.keys() if tad[1]-tad[0]==1])/len(cons_topdom_tadtree)"
   ]
  },
  {
   "cell_type": "code",
   "execution_count": 58,
   "metadata": {},
   "outputs": [
    {
     "data": {
      "text/plain": [
       "0.0"
      ]
     },
     "execution_count": 58,
     "metadata": {},
     "output_type": "execute_result"
    }
   ],
   "source": [
    "len([tad[1]-tad[0] for tad in true_results if tad[1]-tad[0]==1])/len(true_results)"
   ]
  },
  {
   "cell_type": "code",
   "execution_count": 61,
   "metadata": {},
   "outputs": [
    {
     "data": {
      "text/plain": [
       "240044.99437570304"
      ]
     },
     "execution_count": 61,
     "metadata": {},
     "output_type": "execute_result"
    }
   ],
   "source": [
    "np.mean([tad[1]-tad[0] for tad in true_results])*resolution"
   ]
  },
  {
   "cell_type": "code",
   "execution_count": 47,
   "metadata": {},
   "outputs": [
    {
     "name": "stdout",
     "output_type": "stream",
     "text": [
      "rate of TADs find in ArrowHead : 54.90196078431373 %\n"
     ]
    }
   ],
   "source": [
    "gap = 1\n",
    "print('rate of TADs find in ArrowHead :', compare_TADs(list(cons_topdom_tadtree.keys()), true_results, gap)*100, '%')"
   ]
  },
  {
   "cell_type": "code",
   "execution_count": 48,
   "metadata": {},
   "outputs": [
    {
     "name": "stdout",
     "output_type": "stream",
     "text": [
      "rate of TADs find in ArrowHead : 69.25133689839572 %\n"
     ]
    }
   ],
   "source": [
    "gap = 1\n",
    "print('rate of TADs find in ArrowHead :', compare_TADs(tadtree, true_results, gap)*100, '%')"
   ]
  },
  {
   "cell_type": "code",
   "execution_count": 62,
   "metadata": {},
   "outputs": [
    {
     "name": "stdout",
     "output_type": "stream",
     "text": [
      "rate of TADs find in ArrowHead : 74.03846153846155 %\n"
     ]
    }
   ],
   "source": [
    "gap = 8\n",
    "print('rate of TADs find in ArrowHead :', compare_TADs(topdom, true_results, gap)*100, '%')"
   ]
  },
  {
   "cell_type": "markdown",
   "metadata": {},
   "source": [
    "# Test the consensus on tadtree+topdom+arrowhead"
   ]
  },
  {
   "cell_type": "code",
   "execution_count": 11,
   "metadata": {},
   "outputs": [],
   "source": [
    "tadtree_topdom_arrowhead = {'tadtree':tadtree, 'topdom':topdom, 'arrowhead':true_results}"
   ]
  },
  {
   "cell_type": "code",
   "execution_count": 12,
   "metadata": {
    "scrolled": true
   },
   "outputs": [
    {
     "name": "stdout",
     "output_type": "stream",
     "text": [
      "600 / 600\n"
     ]
    }
   ],
   "source": [
    "size = []\n",
    "evaluation = []\n",
    "for threshold in range(600):\n",
    "    clear_output(wait=True)\n",
    "    print(threshold+1, '/ 600')\n",
    "    cons2 = consensus(tadtree_topdom_arrowhead, resolution, threshold)\n",
    "    size.append(len(cons2))\n",
    "    ev = evaluate(list(cons2.keys()), l_peak_GM)\n",
    "    if ev==0:\n",
    "        evaluation.append(100)\n",
    "    else:\n",
    "        evaluation.append(ev)"
   ]
  },
  {
   "cell_type": "code",
   "execution_count": 13,
   "metadata": {},
   "outputs": [
    {
     "data": {
      "image/png": "[encoded data removed]",
      "text/plain": [
       "<Figure size 432x288 with 1 Axes>"
      ]
     },
     "metadata": {
      "needs_background": "light"
     },
     "output_type": "display_data"
    },
    {
     "data": {
      "image/png": "[encoded data removed]",
      "text/plain": [
       "<Figure size 432x288 with 1 Axes>"
      ]
     },
     "metadata": {
      "needs_background": "light"
     },
     "output_type": "display_data"
    }
   ],
   "source": [
    "plt.title('TADs detected according to the threshold')\n",
    "plt.plot(range(600), size)\n",
    "plt.xlabel('Threshold')\n",
    "plt.ylabel('Number of TADs detected')\n",
    "plt.show()\n",
    "plt.title('Correspondence with ctcf peaks')\n",
    "plt.plot(range(600), evaluation)\n",
    "plt.xlabel('Threshold')\n",
    "plt.ylabel('Boundaries presents in CTCF (%)')\n",
    "plt.show()"
   ]
  },
  {
   "cell_type": "markdown",
   "metadata": {},
   "source": [
    "### Evaluation with a threshold = 260"
   ]
  },
  {
   "cell_type": "code",
   "execution_count": 14,
   "metadata": {},
   "outputs": [
    {
     "name": "stdout",
     "output_type": "stream",
     "text": [
      "TADs detected: 355\n",
      "Similarity rate with CTCF peaks: 88.64999999999999 %\n"
     ]
    }
   ],
   "source": [
    "threshold = 260\n",
    "cons_topdom_tadtree_arrowhead = consensus(tadtree_topdom_arrowhead, resolution, threshold)\n",
    "print('TADs detected:', len(cons_topdom_tadtree_arrowhead))\n",
    "print('Similarity rate with CTCF peaks:', evaluate(cons_topdom_tadtree_arrowhead, l_peak_GM), '%')"
   ]
  },
  {
   "cell_type": "code",
   "execution_count": 15,
   "metadata": {},
   "outputs": [
    {
     "name": "stdout",
     "output_type": "stream",
     "text": [
      "rate of TADs find in ArrowHead : 79.71830985915493 %\n"
     ]
    }
   ],
   "source": [
    "gap = 1\n",
    "print('rate of TADs find in ArrowHead :', compare_TADs(list(cons_topdom_tadtree_arrowhead.keys()), true_results, gap)*100, '%')"
   ]
  },
  {
   "cell_type": "markdown",
   "metadata": {},
   "source": [
    "# Explanation of scoring"
   ]
  },
  {
   "cell_type": "code",
   "execution_count": 19,
   "metadata": {},
   "outputs": [],
   "source": [
    "eval_topdom = []\n",
    "eval_arrowhead = []\n",
    "for cell_type in ['GM12878', 'HMEC', 'HUVEC', 'IMR90', 'NHEK']:\n",
    "    ctcf = {\n",
    "        'GM12878':'ENCFF796WRU.bed',\n",
    "        'HMEC':'ENCFF059YXD.bed',\n",
    "        'HUVEC':'ENCFF949KVG.bed',\n",
    "        'IMR90':'ENCFF203SRF.bed',\n",
    "        'NHEK':'ENCFF351YOQ.bed'\n",
    "    }\n",
    "    fileCTCF = os.path.join('CTCF', cell_type, ctcf[cell_type])\n",
    "    l_peak = bedPicks(fileCTCF, 'chr1', resolution)[0]\n",
    "    folder = os.path.join('..', 'CHROMOSOMES', cell_type, '100kb')\n",
    "    data_path = os.path.join(folder, 'chr1_100kb.npy')\n",
    "    if not os.path.isfile(data_path):\n",
    "        preprocess_data(folder, resolution)\n",
    "    hic_mat = Hicmat(data_path, resolution)\n",
    "    hic_mat.filter(threshold = 1)\n",
    "    topdom_i = TopDom()\n",
    "    topdom_i = topdom_i.getTADs(hic_mat, window=3)\n",
    "    for i in range(len(topdom_i)):\n",
    "        topdom_i[i]=(int(topdom_i[i][0]/resolution), int(topdom_i[i][1]/resolution))\n",
    "    eval_topdom.append(evaluate(topdom_i, l_peak))\n",
    "    arrowhead = {\n",
    "        'GM12878':'GSE63525_GM12878_primary+replicate_Arrowhead_domainlist.txt',\n",
    "        'HMEC':'GSE63525_HMEC_Arrowhead_domainlist.txt',\n",
    "        'HUVEC':'GSE63525_HUVEC_Arrowhead_domainlist.txt',\n",
    "        'IMR90':'GSE63525_IMR90_Arrowhead_domainlist.txt',\n",
    "        'NHEK':'GSE63525_NHEK_Arrowhead_domainlist.txt'\n",
    "    }\n",
    "    true_results_i = read_arrowhead_result(os.path.join('..', 'RESULTS', arrowhead[cell_type]), '1', resolution)\n",
    "    eval_arrowhead.append(evaluate(true_results_i, l_peak))\n",
    "    clear_output()"
   ]
  },
  {
   "cell_type": "code",
   "execution_count": 20,
   "metadata": {},
   "outputs": [
    {
     "name": "stdout",
     "output_type": "stream",
     "text": [
      "score for topdom : 71.26\n",
      "score for arrowhead : 78.58200000000001\n",
      "score for tadtree : 83.23\n"
     ]
    }
   ],
   "source": [
    "print('score for topdom :', np.mean(eval_topdom))\n",
    "print('score for arrowhead :', np.mean(eval_arrowhead))\n",
    "print('score for tadtree :', evaluate(tadtree, l_peak_GM))"
   ]
  },
  {
   "cell_type": "code",
   "execution_count": null,
   "metadata": {},
   "outputs": [],
   "source": []
  }
 ],
 "metadata": {
  "kernelspec": {
   "display_name": "Python 3",
   "language": "python",
   "name": "python3"
  },
  "language_info": {
   "codemirror_mode": {
    "name": "ipython",
    "version": 3
   },
   "file_extension": ".py",
   "mimetype": "text/x-python",
   "name": "python",
   "nbconvert_exporter": "python",
   "pygments_lexer": "ipython3",
   "version": "3.8.5"
  }
 },
 "nbformat": 4,
 "nbformat_minor": 4
}
