{
 "cells": [
  {
   "cell_type": "code",
   "execution_count": 1,
   "id": "7d61337f",
   "metadata": {},
   "outputs": [],
   "source": [
    "from src.data import HiCDataset\n",
    "import src.utils\n",
    "import src.metrics\n",
    "import src.tad_algo\n",
    "from src.tuning import tune_topdom, tune_tadtree"
   ]
  },
  {
   "cell_type": "markdown",
   "id": "de0332ea",
   "metadata": {},
   "source": [
    "# Preparation of the dataset"
   ]
  },
  {
   "cell_type": "markdown",
   "id": "a2aeb098",
   "metadata": {},
   "source": [
    "### Preprocessing and split between development set and test set"
   ]
  },
  {
   "cell_type": "code",
   "execution_count": 2,
   "id": "4f062b14",
   "metadata": {},
   "outputs": [],
   "source": [
    "dataset = HiCDataset(data_folder='data')\n",
    "dataset.build_data_dict()"
   ]
  },
  {
   "cell_type": "code",
   "execution_count": 3,
   "id": "d16090d9",
   "metadata": {},
   "outputs": [],
   "source": [
    "development_set, test_set = dataset.split(dev_ratio = 0.7, test_ratio=0.3)"
   ]
  },
  {
   "cell_type": "code",
   "execution_count": null,
   "id": "208328ad",
   "metadata": {},
   "outputs": [
    {
     "name": "stderr",
     "output_type": "stream",
     "text": [
      " 31%|█████████████████████████▌                                                         | 4/13 [04:29<09:58, 66.48s/it]"
     ]
    }
   ],
   "source": [
    "tune_topdom(development_set)"
   ]
  },
  {
   "cell_type": "code",
   "execution_count": null,
   "id": "70971158",
   "metadata": {},
   "outputs": [],
   "source": [
    "tune_tadtree(development_set, param_ranges={'N': (100,700)})"
   ]
  },
  {
   "cell_type": "code",
   "execution_count": null,
   "id": "4ea338cc",
   "metadata": {},
   "outputs": [],
   "source": [
    "tune_tadtree(development_set, param_ranges={'p': (2,5)})"
   ]
  }
 ],
 "metadata": {
  "kernelspec": {
   "display_name": "Python 3 (ipykernel)",
   "language": "python",
   "name": "python3"
  },
  "language_info": {
   "codemirror_mode": {
    "name": "ipython",
    "version": 3
   },
   "file_extension": ".py",
   "mimetype": "text/x-python",
   "name": "python",
   "nbconvert_exporter": "python",
   "pygments_lexer": "ipython3",
   "version": "3.9.7"
  }
 },
 "nbformat": 4,
 "nbformat_minor": 5
}
