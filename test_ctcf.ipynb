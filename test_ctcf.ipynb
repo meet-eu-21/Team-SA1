{
 "cells": [
  {
   "cell_type": "code",
   "execution_count": 20,
   "metadata": {},
   "outputs": [],
   "source": [
    "import pandas as pd\n",
    "import os, time, logging\n",
    "import numpy as np\n",
    "from src.data import Hicmat, plot_data, preprocess_data\n",
    "from src.tad_algo import TopDom, TADtree\n",
    "from src.utils import *\n",
    "import CTCF"
   ]
  },
  {
   "cell_type": "code",
   "execution_count": 3,
   "metadata": {},
   "outputs": [],
   "source": [
    "def bedPicks(file, chrom, resolution):\n",
    "    \n",
    "    df = pd.read_csv(file, sep='\\t', comment = 't', header=None)\n",
    "    header = ['chrom', 'chStart', 'chEnd', 'name', 'score', 'strand', 'sigValue', 'pValue', 'qValue', 'peak']\n",
    "    df.columns = header[:len(df.columns)]\n",
    "    l_peak = []                               #to store pairs (chromStart, chromEnd) for a specific chrom\n",
    "    \n",
    "    #delete non useful columns \n",
    "    if set(df['name'])=={'.'}:\n",
    "        del df['name']\n",
    "    if set(df['strand'])=={'.'}:\n",
    "        del df['strand']\n",
    "    if set(df['pValue'])=={-1.0}:\n",
    "        del df['pValue']\n",
    "        \n",
    "    #we take into account data for a specific chromosome \n",
    "    df = df[df['chrom']==chrom]\n",
    "    df = df.sort_values(by = 'chStart')\n",
    "    \n",
    "    #just some tests for a eventual filter \n",
    "    score = np.array(df['sigValue'])\n",
    "    #print(score.mean(), score.min(), score.max()) \n",
    "    index = df.index.tolist()\n",
    "    for ctcf in index:\n",
    "        l_peak.append(int(round(df['chStart'][ctcf]/resolution, 0)))\n",
    "        l_peak.append(int(round(df['chEnd'][ctcf]/resolution, 0)))\n",
    "    return list(set(l_peak))"
   ]
  },
  {
   "cell_type": "code",
   "execution_count": 4,
   "metadata": {},
   "outputs": [],
   "source": [
    "def consensus(list1, list2, resolution, ctcf, k):\n",
    "    resolution_to_gap = {100000: k,\n",
    "                         50000: 2,\n",
    "                         25000: 4}\n",
    "    gap = resolution_to_gap[resolution]\n",
    "    true_TADs = []\n",
    "    for tad in list1:\n",
    "        for i in range(-gap, gap+1):\n",
    "            for j in range(-gap, gap+1):\n",
    "                if (tad[0]+i, tad[1]+j) in list2:\n",
    "                    true_TADs.append((min(tad[0], tad[0]+i), max(tad[1], tad[1]+j)))\n",
    "    # smoothing\n",
    "    n=len(true_TADs)\n",
    "    for i in range(n-1):\n",
    "        for j in range(i+1, n):\n",
    "            if true_TADs[i][0]<true_TADs[j][0] and true_TADs[i][1]<true_TADs[j][1] and true_TADs[i][1]>true_TADs[j][0]:\n",
    "                middle = int((true_TADs[i][1]-true_TADs[j][0])/2)\n",
    "                for boundary in range(true_TADs[j][0], true_TADs[i][1]+1):\n",
    "                    if boundary in ctcf:\n",
    "                        true_boundary = boundary\n",
    "                        break\n",
    "                    else:\n",
    "                        true_boundary = true_TADs[j][0]+middle\n",
    "                true_TADs[i] = (true_TADs[i][0], true_boundary)\n",
    "                true_TADs[j] = (true_boundary, true_TADs[j][1])\n",
    "            if true_TADs[i][0]>true_TADs[j][0] and true_TADs[i][1]>true_TADs[j][1] and true_TADs[i][0]<true_TADs[j][1]:\n",
    "                middle = int((true_TADs[j][1]-true_TADs[i][0])/2)\n",
    "                for boundary in range(true_TADs[j][0], true_TADs[i][1]+1):\n",
    "                    if boundary in ctcf:\n",
    "                        true_boundary = boundary\n",
    "                        break\n",
    "                    else:\n",
    "                        true_boundary = true_TADs[i][0]+middle\n",
    "                true_TADs[i] = (true_boundary, true_TADs[i][1])\n",
    "                true_TADs[j] = (true_TADs[j][0], true_boundary)\n",
    "    return true_TADs"
   ]
  },
  {
   "cell_type": "code",
   "execution_count": 5,
   "metadata": {},
   "outputs": [],
   "source": [
    "fileCTCF = os.path.join('..', 'CTCF', 'ENCFF796WRU.bed')\n",
    "l_peak_GM = bedPicks(fileCTCF, 'chr1', 5000)"
   ]
  },
  {
   "cell_type": "code",
   "execution_count": 15,
   "metadata": {
    "scrolled": true
   },
   "outputs": [
    {
     "name": "stdout",
     "output_type": "stream",
     "text": [
      "[(13, 16), (17, 19), (21, 23), (23, 26), (23, 32), (27, 32), (35, 37), (37, 60), (40, 45), (55, 60), (60, 80), (62, 65), (67, 70), (70, 79), (80, 91), (81, 84), (85, 89), (91, 93), (93, 96), (96, 100), (96, 105), (100, 105), (105, 111), (105, 121), (107, 110), (112, 118), (114, 117), (121, 123), (123, 127), (127, 142), (138, 142), (142, 149), (142, 158), (149, 154), (154, 157), (158, 161), (161, 164), (164, 166), (166, 168), (168, 173), (173, 202), (174, 177), (179, 187), (179, 192), (189, 192), (192, 195), (196, 200), (202, 205), (202, 210), (205, 209), (210, 223), (211, 216), (216, 219), (220, 223), (225, 233), (230, 233), (233, 238), (235, 238), (238, 241), (241, 243), (244, 250), (245, 248), (250, 256), (252, 255), (256, 258), (258, 262), (258, 264), (264, 268), (269, 272), (274, 277), (274, 281), (277, 280), (282, 285), (287, 290), (291, 296), (291, 311), (298, 301), (311, 340), (312, 315), (318, 321), (322, 325), (326, 329), (329, 333), (333, 336), (337, 340), (340, 352), (342, 345), (352, 363), (353, 357), (359, 363), (363, 365), (365, 369), (369, 379), (371, 376), (379, 382), (379, 393), (384, 393), (385, 390), (393, 395), (395, 402), (402, 405), (405, 409), (410, 415), (417, 420), (417, 436), (420, 423), (424, 433), (428, 433), (433, 436), (436, 439), (436, 446), (439, 446), (442, 445), (446, 451), (451, 468), (452, 455), (452, 459), (464, 467), (468, 471), (471, 479), (476, 479), (479, 482), (479, 484), (479, 508), (512, 517), (517, 523), (523, 525), (525, 537), (528, 532), (537, 539), (539, 542), (542, 555), (545, 552), (546, 550), (555, 558), (560, 573), (564, 571), (573, 592), (589, 592), (592, 596), (592, 602), (602, 629), (620, 624), (626, 629), (629, 633), (641, 647), (647, 653), (653, 655), (657, 666), (667, 669), (671, 673), (674, 680), (676, 680), (680, 683), (684, 710), (685, 689), (706, 710), (780, 786), (849, 852), (852, 854), (854, 858), (854, 876), (872, 876), (876, 881), (876, 891), (891, 894), (894, 899), (899, 905), (902, 905), (905, 919), (919, 924), (924, 933), (927, 931), (933, 935), (935, 937), (940, 943), (943, 945), (945, 949), (949, 953), (953, 955), (1002, 1010), (1014, 1018), (1014, 1020), (1078, 1081), (1078, 1093), (1083, 1087), (1083, 1093), (1093, 1095), (1096, 1098), (1098, 1106), (1101, 1106), (1103, 1106), (1106, 1129), (1107, 1110), (1111, 1114), (1117, 1120), (1120, 1123), (1126, 1129), (1129, 1133), (1134, 1136), (1137, 1143), (1143, 1145), (1145, 1149), (1149, 1153), (1153, 1161), (1161, 1163), (1166, 1171), (1172, 1176), (1180, 1183), (1180, 1198), (1198, 1200), (1448, 1451), (1448, 1469), (1499, 1502), (1502, 1514), (1505, 1510), (1514, 1519), (1521, 1531), (1534, 1536), (1537, 1540), (1541, 1544), (1541, 1552), (1546, 1549), (1552, 1556), (1552, 1560), (1560, 1563), (1563, 1566), (1566, 1569), (1570, 1581), (1571, 1575), (1576, 1580), (1581, 1592), (1587, 1591), (1592, 1597), (1597, 1600), (1600, 1604), (1604, 1606), (1607, 1610), (1611, 1614), (1614, 1617), (1617, 1620), (1620, 1624), (1625, 1628), (1625, 1652), (1628, 1633), (1653, 1656), (1653, 1668), (1656, 1659), (1660, 1663), (1660, 1668), (1668, 1671), (1668, 1675), (1672, 1675), (1675, 1677), (1677, 1681), (1682, 1695), (1683, 1686), (1686, 1692), (1688, 1691), (1695, 1698), (1698, 1718), (1714, 1718), (1720, 1724), (1726, 1734), (1726, 1751), (1731, 1734), (1734, 1738), (1741, 1751), (1747, 1750), (1751, 1753), (1753, 1759), (1759, 1784), (1784, 1790), (1785, 1788), (1790, 1794), (1794, 1797), (1798, 1802), (1802, 1805), (1805, 1809), (1805, 1828), (1809, 1812), (1813, 1821), (1813, 1825), (1814, 1817), (1821, 1824), (1825, 1828), (1829, 1833), (1829, 1836), (1836, 1839), (1839, 1847), (1847, 1850), (1985, 1987), (1987, 1993), (1994, 2000), (2002, 2005), (2005, 2009), (2005, 2012), (2013, 2018), (2015, 2018), (2018, 2030), (2019, 2022), (2022, 2026), (2027, 2030), (2030, 2037), (2030, 2058), (2032, 2035), (2037, 2041), (2037, 2052), (2041, 2044), (2045, 2048), (2049, 2052), (2052, 2055), (2058, 2066), (2066, 2072), (2068, 2072), (2072, 2077), (2080, 2082), (2082, 2085), (2085, 2095), (2097, 2100), (2100, 2114), (2114, 2117), (2114, 2132), (2118, 2122), (2118, 2126), (2122, 2125), (2126, 2129), (2126, 2132), (2129, 2132), (2133, 2148), (2144, 2148), (2201, 2204), (2209, 2216), (2210, 2214), (2216, 2223), (2219, 2222), (2223, 2233), (2227, 2233), (2241, 2243), (2243, 2246), (2248, 2251), (2251, 2256), (2256, 2260), (2256, 2266), (2263, 2266), (2266, 2268), (2268, 2271), (2272, 2281), (2277, 2281), (2282, 2287), (2288, 2294), (2294, 2297), (2297, 2306), (2298, 2304), (2308, 2314), (2314, 2318), (2318, 2335), (2329, 2334), (2335, 2342), (2336, 2339), (2342, 2345), (2347, 2352), (2353, 2356), (2356, 2360), (2360, 2362), (2362, 2367), (2444, 2446), (2447, 2450), (2450, 2452), (2452, 2465), (2452, 2470), (2457, 2462), (2466, 2469), (2470, 2477)]\n"
     ]
    }
   ],
   "source": [
    "tads_by_tadtree = pd.read_csv('../CHROMOSOMES/GM12878/100kb/TADtree_outputs/chr1/N399.txt', delimiter='\\t')\n",
    "tads_by_tadtree = tads_by_tadtree.iloc[:, [1,2]]\n",
    "tadtree = []\n",
    "for i in range(len(tads_by_tadtree['start'])):\n",
    "    tadtree.append((tads_by_tadtree['start'][i], tads_by_tadtree['end'][i]))\n",
    "print(tadtree)"
   ]
  },
  {
   "cell_type": "code",
   "execution_count": 7,
   "metadata": {},
   "outputs": [
    {
     "name": "stdout",
     "output_type": "stream",
     "text": [
      "TopDom Step 1 : Generating binSignals by computing bin-level contact frequencies\n",
      "TopDom Step 2 : Detect TD boundaries based on binSignals\n",
      "TopDom Step 3 : Statistical Filtering of false positive TD boundaries\n",
      "TopDom : Exporting TADs\n"
     ]
    }
   ],
   "source": [
    "folder = os.path.join('..', 'CHROMOSOMES', 'GM12878', '100kb')\n",
    "data_path = os.path.join(folder, 'chr1_100kb.npy')\n",
    "resolution=100000\n",
    "if not os.path.isfile(data_path):\n",
    "    preprocess_data(folder, resolution)\n",
    "hic_mat = Hicmat(data_path, resolution)\n",
    "hic_mat.filter(threshold = 1)\n",
    "topdom = TopDom()\n",
    "topdom_tads = topdom.getTADs(hic_mat, window=10)"
   ]
  },
  {
   "cell_type": "code",
   "execution_count": 8,
   "metadata": {},
   "outputs": [
    {
     "name": "stdout",
     "output_type": "stream",
     "text": [
      "[(6, 34), (34, 60), (60, 80), (80, 129), (137, 171), (171, 192), (192, 210), (210, 243), (243, 256), (256, 268), (268, 296), (299, 312), (312, 340), (340, 352), (352, 369), (369, 402), (402, 415), (415, 436), (436, 452), (452, 468), (468, 494), (494, 508), (508, 537), (537, 555), (555, 573), (573, 589), (589, 604), (604, 626), (626, 652), (652, 672), (672, 703), (703, 731), (731, 763), (763, 817), (817, 843), (843, 868), (868, 891), (891, 905), (905, 917), (917, 933), (933, 944), (944, 958), (958, 974), (974, 986), (986, 1002), (1002, 1035), (1043, 1064), (1064, 1090), (1090, 1129), (1129, 1154), (1154, 1166), (1166, 1185), (1185, 1206), (1447, 1458), (1495, 1520), (1520, 1533), (1533, 1552), (1552, 1581), (1581, 1591), (1591, 1614), (1614, 1634), (1634, 1650), (1650, 1668), (1668, 1682), (1682, 1698), (1698, 1714), (1714, 1750), (1750, 1769), (1769, 1782), (1782, 1796), (1796, 1828), (1828, 1863), (1863, 1892), (1892, 1905), (1905, 1944), (1944, 1967), (1967, 1996), (1996, 2030), (2030, 2059), (2065, 2080), (2080, 2100), (2100, 2114), (2114, 2134), (2134, 2159), (2159, 2184), (2184, 2200), (2200, 2227), (2227, 2241), (2241, 2255), (2255, 2276), (2276, 2287), (2287, 2307), (2307, 2319), (2319, 2334), (2334, 2379), (2379, 2401), (2401, 2432), (2432, 2447), (2447, 2481)]\n"
     ]
    }
   ],
   "source": [
    "for i in range(len(topdom_tads)):\n",
    "    topdom_tads[i]=(int(topdom_tads[i][0]/resolution), int(topdom_tads[i][1]/resolution))\n",
    "print(topdom_tads)"
   ]
  },
  {
   "cell_type": "code",
   "execution_count": 16,
   "metadata": {},
   "outputs": [],
   "source": [
    "consensus_GM12878 = consensus(tadtree, topdom_tads, 100000, l_peak_GM, 2)"
   ]
  },
  {
   "cell_type": "code",
   "execution_count": 17,
   "metadata": {},
   "outputs": [
    {
     "name": "stdout",
     "output_type": "stream",
     "text": [
      "[(60, 80), (311, 340), (340, 352), (415, 436), (451, 468), (905, 919), (1520, 1533), (1581, 1592), (2030, 2059), (2100, 2114), (2114, 2134), (2318, 2335)]\n"
     ]
    }
   ],
   "source": [
    "print(consensus_GM12878)"
   ]
  },
  {
   "cell_type": "code",
   "execution_count": 12,
   "metadata": {},
   "outputs": [
    {
     "name": "stdout",
     "output_type": "stream",
     "text": [
      "[(59, 80), (171, 192), (311, 340), (451, 468), (537, 555), (589, 604), (1682, 1699), (2030, 2059), (2114, 2134), (2287, 2307)]\n"
     ]
    }
   ],
   "source": [
    "print(consensus_GM12878)"
   ]
  },
  {
   "cell_type": "markdown",
   "metadata": {},
   "source": [
    "TopDom trouve pas bcp de tads et ils correspondent pas avec ceux de TadTree"
   ]
  },
  {
   "cell_type": "code",
   "execution_count": 18,
   "metadata": {},
   "outputs": [
    {
     "data": {
      "text/plain": [
       "99"
      ]
     },
     "execution_count": 18,
     "metadata": {},
     "output_type": "execute_result"
    }
   ],
   "source": [
    "len(topdom_tads)"
   ]
  },
  {
   "cell_type": "code",
   "execution_count": 19,
   "metadata": {},
   "outputs": [
    {
     "name": "stdout",
     "output_type": "stream",
     "text": [
      "3\n",
      "8\n",
      "12\n",
      "18\n",
      "20\n",
      "26\n",
      "40\n"
     ]
    }
   ],
   "source": [
    "for z in range(7):\n",
    "    print(len(consensus(tadtree, topdom_tads, 100000, l_peak_GM, z)))"
   ]
  },
  {
   "cell_type": "code",
   "execution_count": 26,
   "metadata": {},
   "outputs": [],
   "source": [
    "true_results = read_arrowhead_result(os.path.join('..', 'RESULTS', 'GSE63525_HMEC_Arrowhead_domainlist.txt'), '1', 100000)"
   ]
  },
  {
   "cell_type": "code",
   "execution_count": 33,
   "metadata": {},
   "outputs": [
    {
     "data": {
      "text/plain": [
       "8"
      ]
     },
     "execution_count": 33,
     "metadata": {},
     "output_type": "execute_result"
    }
   ],
   "source": [
    "len(consensus(topdom_tads, true_results, 100000, l_peak_GM, 2))"
   ]
  },
  {
   "cell_type": "code",
   "execution_count": null,
   "metadata": {},
   "outputs": [],
   "source": []
  }
 ],
 "metadata": {
  "kernelspec": {
   "display_name": "Python 3",
   "language": "python",
   "name": "python3"
  },
  "language_info": {
   "codemirror_mode": {
    "name": "ipython",
    "version": 3
   },
   "file_extension": ".py",
   "mimetype": "text/x-python",
   "name": "python",
   "nbconvert_exporter": "python",
   "pygments_lexer": "ipython3",
   "version": "3.8.5"
  }
 },
 "nbformat": 4,
 "nbformat_minor": 4
}
