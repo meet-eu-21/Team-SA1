{
 "cells": [
  {
   "cell_type": "code",
   "execution_count": 1,
   "metadata": {},
   "outputs": [],
   "source": [
    "import pandas as pd\n",
    "import os, time, logging\n",
    "import numpy as np\n",
    "from src.data import Hicmat, plot_data, preprocess_data\n",
    "from src.tad_algo import TopDom, TADtree\n",
    "from src.utils import *\n",
    "import CTCF"
   ]
  },
  {
   "cell_type": "code",
   "execution_count": 2,
   "metadata": {},
   "outputs": [],
   "source": [
    "def bedPicks(file, chrom, resolution):\n",
    "    \n",
    "    df = pd.read_csv(file, sep='\\t', comment = 't', header=None)\n",
    "    header = ['chrom', 'chStart', 'chEnd', 'name', 'score', 'strand', 'sigValue', 'pValue', 'qValue', 'peak']\n",
    "    df.columns = header[:len(df.columns)]\n",
    "    l_peak = []                               #to store pairs (chromStart, chromEnd) for a specific chrom\n",
    "    \n",
    "    #delete non useful columns \n",
    "    if set(df['name'])=={'.'}:\n",
    "        del df['name']\n",
    "    if set(df['strand'])=={'.'}:\n",
    "        del df['strand']\n",
    "    if set(df['pValue'])=={-1.0}:\n",
    "        del df['pValue']\n",
    "        \n",
    "    #we take into account data for a specific chromosome \n",
    "    df = df[df['chrom']==chrom]\n",
    "    df = df.sort_values(by = 'chStart')\n",
    "    \n",
    "    #just some tests for a eventual filter \n",
    "    score = np.array(df['sigValue'])\n",
    "    #print(score.mean(), score.min(), score.max()) \n",
    "    index = df.index.tolist()\n",
    "    for ctcf in index:\n",
    "        if int(df['sigValue'][ctcf])>=140:\n",
    "            l_peak.append(int(round(df['chStart'][ctcf]/resolution, 0)))\n",
    "            l_peak.append(int(round(df['chEnd'][ctcf]/resolution, 0)))\n",
    "    return list(set(l_peak))\n",
    "\n",
    "def evaluate(TADs, ctcf):\n",
    "    a=0\n",
    "    b=[]\n",
    "    c=set()\n",
    "    for tad in TADs:\n",
    "        if tad[0] in ctcf and tad[0] not in b:\n",
    "            a+=1\n",
    "            b.append(tad[0])\n",
    "        if tad[1] in ctcf and tad[1] not in b:\n",
    "            a+=1\n",
    "            b.append(tad[1])\n",
    "        c.add(tad[0])\n",
    "        c.add(tad[1])\n",
    "    return round(a/len(c), 4)*100"
   ]
  },
  {
   "cell_type": "code",
   "execution_count": 3,
   "metadata": {},
   "outputs": [],
   "source": [
    "def get_great_tads(TADs, lim):\n",
    "    TADs_set = set(TADs)\n",
    "    for tad_i in range(len(TADs)-1):\n",
    "        for tad_j in range(tad_i+1, len(TADs)):\n",
    "            if TADs[tad_j][1]-TADs[tad_i][0]<=lim:\n",
    "                TADs_set.add((TADs[tad_i][0], TADs[tad_j][1]))\n",
    "            else:\n",
    "                break\n",
    "    return sorted(TADs_set)\n",
    "\n",
    "def get_common_tads(list1, list2, gap):\n",
    "    output = []\n",
    "    for tad in list1:\n",
    "        for i in range(-gap, gap+1):\n",
    "            for j in range(-gap, gap+1):\n",
    "                if (tad[0]+i, tad[1]+j) in list2:\n",
    "                    output.append((min(tad[0], tad[0]+i), max(tad[1], tad[1]+j)))\n",
    "    return output\n",
    "\n",
    "def get_overlaps(TADs):\n",
    "    counter = 0\n",
    "    n = len(TADs)\n",
    "    overlaps = []\n",
    "    for i in range(n-1):\n",
    "        for j in range(i+1, n):\n",
    "            if TADs[i][0]!=TADs[j][0] and TADs[i][1]>TADs[j][0] and TADs[i][1]<TADs[j][1]:\n",
    "                counter+=1\n",
    "                overlaps.append((TADs[i], TADs[j]))\n",
    "            elif TADs[i][1]<TADs[j][0]:\n",
    "                break\n",
    "    return counter, overlaps\n",
    "\n",
    "def get_count_boundaries(TADs):\n",
    "    count_boundaries = {}\n",
    "    for tad in TADs:\n",
    "        count_boundaries.setdefault(tad[0], 0)\n",
    "        count_boundaries.setdefault(tad[1], 0)\n",
    "        count_boundaries[tad[0]]+=1\n",
    "        count_boundaries[tad[0]]+=1\n",
    "    return count_boundaries\n",
    "\n",
    "def get_smoothing(TADs):\n",
    "    _, overlaps = get_overlaps(TADs)\n",
    "    count_boundaries = get_count_boundaries(TADs)\n",
    "    new_boundaries = {}\n",
    "    for tads in overlaps:\n",
    "        if count_boundaries[tads[0][1]]>count_boundaries[tads[1][0]] and tads[1][0] not in new_boundaries:\n",
    "            new_boundaries[tads[1][0]]=tads[0][1]\n",
    "        elif tads[0][1] not in new_boundaries:\n",
    "            new_boundaries[tads[0][1]]=tads[1][0]\n",
    "    output = []\n",
    "    for tad in TADs:\n",
    "        if tad[0] in new_boundaries:\n",
    "            if tad[1] in new_boundaries:\n",
    "                output.append((new_boundaries[tad[0]], new_boundaries[tad[1]]))\n",
    "            else:\n",
    "                output.append((new_boundaries[tad[0]], tad[1]))\n",
    "        else:\n",
    "            if tad[1] in new_boundaries:\n",
    "                output.append((tad[0], new_boundaries[tad[1]]))\n",
    "            else:\n",
    "                output.append(tad)\n",
    "    return sorted(set(output))\n",
    "\n",
    "def consensus2(lists, resolution, gap=200000, lim=3000000, smoothing=True):\n",
    "    lim = int(lim/resolution)\n",
    "    extended_lists = []\n",
    "    for list_i in lists:\n",
    "        extended_lists.append(get_great_tads(list_i, lim))\n",
    "    gap = int(gap/resolution)\n",
    "    output = []\n",
    "    for i in range(len(extended_lists)-1):\n",
    "        for j in range(i+1, len(extended_lists)):\n",
    "            output+=get_common_tads(extended_lists[i], extended_lists[j], gap)\n",
    "    output = sorted(set(output))\n",
    "    if smoothing:\n",
    "        output = get_smoothing(output)\n",
    "    return output"
   ]
  },
  {
   "cell_type": "code",
   "execution_count": 4,
   "metadata": {},
   "outputs": [],
   "source": [
    "def smoothing_with_ctcf(true_TADs, ctcf):\n",
    "    counter=0\n",
    "    n=len(true_TADs)\n",
    "    for i in range(n-1):\n",
    "        for j in range(i+1, n):\n",
    "            if true_TADs[i][0]<true_TADs[j][0] and true_TADs[i][1]<true_TADs[j][1] and true_TADs[i][1]>true_TADs[j][0]:\n",
    "                middle = int((true_TADs[i][1]-true_TADs[j][0])/2)\n",
    "                for boundary in range(true_TADs[j][0], true_TADs[i][1]+1):\n",
    "                    if boundary in ctcf:\n",
    "                        true_boundary = boundary\n",
    "                        counter+=1\n",
    "                        break\n",
    "                    else:\n",
    "                        true_boundary = true_TADs[j][0]+middle\n",
    "                true_TADs[i] = (true_TADs[i][0], true_boundary)\n",
    "                true_TADs[j] = (true_boundary, true_TADs[j][1])\n",
    "            if true_TADs[i][0]>true_TADs[j][0] and true_TADs[i][1]>true_TADs[j][1] and true_TADs[i][0]<true_TADs[j][1]:\n",
    "                middle = int((true_TADs[j][1]-true_TADs[i][0])/2)\n",
    "                for boundary in range(true_TADs[j][0], true_TADs[i][1]+1):\n",
    "                    if boundary in ctcf:\n",
    "                        true_boundary = boundary\n",
    "                        counter+=1\n",
    "                        break\n",
    "                    else:\n",
    "                        true_boundary = true_TADs[i][0]+middle\n",
    "                true_TADs[i] = (true_boundary, true_TADs[i][1])\n",
    "                true_TADs[j] = (true_TADs[j][0], true_boundary)\n",
    "    print(counter)\n",
    "    return true_TADs"
   ]
  },
  {
   "cell_type": "code",
   "execution_count": 5,
   "metadata": {},
   "outputs": [],
   "source": [
    "fileCTCF = os.path.join('..', 'CTCF', 'ENCFF796WRU.bed')\n",
    "l_peak_GM = bedPicks(fileCTCF, 'chr1', 100000)\n",
    "true_results = read_arrowhead_result(os.path.join('..', 'RESULTS', 'GSE63525_GM12878_primary+replicate_Arrowhead_domainlist.txt'), '1', 100000)"
   ]
  },
  {
   "cell_type": "code",
   "execution_count": 6,
   "metadata": {
    "scrolled": true
   },
   "outputs": [],
   "source": [
    "tads_by_tadtree = pd.read_csv('../CHROMOSOMES/GM12878/100kb/TADtree_outputs/chr1/N399.txt', delimiter='\\t')\n",
    "tads_by_tadtree = tads_by_tadtree.iloc[:, [1,2]]\n",
    "tadtree = []\n",
    "for i in range(len(tads_by_tadtree['start'])):\n",
    "    tadtree.append((tads_by_tadtree['start'][i], tads_by_tadtree['end'][i]))\n",
    "#print(tadtree)"
   ]
  },
  {
   "cell_type": "code",
   "execution_count": 7,
   "metadata": {},
   "outputs": [
    {
     "name": "stdout",
     "output_type": "stream",
     "text": [
      "TopDom Step 1 : Generating binSignals by computing bin-level contact frequencies\n",
      "TopDom Step 2 : Detect TD boundaries based on binSignals\n",
      "TopDom Step 3 : Statistical Filtering of false positive TD boundaries\n",
      "TopDom : Exporting TADs\n"
     ]
    }
   ],
   "source": [
    "folder = os.path.join('..', 'CHROMOSOMES', 'GM12878', '100kb')\n",
    "data_path = os.path.join(folder, 'chr1_100kb.npy')\n",
    "resolution=100000\n",
    "if not os.path.isfile(data_path):\n",
    "    preprocess_data(folder, resolution)\n",
    "hic_mat = Hicmat(data_path, resolution)\n",
    "hic_mat.filter(threshold = 1)\n",
    "topdom = TopDom()\n",
    "topdom = topdom.getTADs(hic_mat, window=10)\n",
    "for i in range(len(topdom)):\n",
    "    topdom[i]=(int(topdom[i][0]/resolution), int(topdom[i][1]/resolution))\n",
    "#print('\\n', topdom)"
   ]
  },
  {
   "cell_type": "markdown",
   "metadata": {},
   "source": [
    "## Average sizes of TADs"
   ]
  },
  {
   "cell_type": "code",
   "execution_count": 8,
   "metadata": {},
   "outputs": [
    {
     "name": "stdout",
     "output_type": "stream",
     "text": [
      "TopDom : 21.939393939393938\n",
      "TadTread : 6.077540106951871\n",
      "ArrowHead : 2.404949381327334\n"
     ]
    }
   ],
   "source": [
    "print('TopDom :', np.mean([tad[1]-tad[0] for tad in topdom]))\n",
    "print('TadTread :', np.mean([tad[1]-tad[0] for tad in tadtree]))\n",
    "print('ArrowHead :', np.mean([tad[1]-tad[0] for tad in true_results]))"
   ]
  },
  {
   "cell_type": "markdown",
   "metadata": {},
   "source": [
    "## Tests of the consensus without smoothing"
   ]
  },
  {
   "cell_type": "code",
   "execution_count": 9,
   "metadata": {
    "scrolled": true
   },
   "outputs": [],
   "source": [
    "tadtree_topdom = consensus2([tadtree, topdom], 100000, smoothing=False)\n",
    "tadtree_arrowhead = consensus2([tadtree, true_results], 100000, smoothing=False)\n",
    "topdom_arrowhead = consensus2([topdom, true_results], 100000, smoothing=False)\n",
    "tadtree_topdom_arrowhead = consensus2([tadtree, topdom, true_results], 100000, smoothing=False)"
   ]
  },
  {
   "cell_type": "markdown",
   "metadata": {},
   "source": [
    "### Number of overlaps"
   ]
  },
  {
   "cell_type": "code",
   "execution_count": 10,
   "metadata": {},
   "outputs": [
    {
     "name": "stdout",
     "output_type": "stream",
     "text": [
      "0 0 0\n",
      "38 588 0\n",
      "694\n"
     ]
    }
   ],
   "source": [
    "print(get_overlaps(tadtree)[0], get_overlaps(topdom)[0], get_overlaps(true_results)[0])\n",
    "print(get_overlaps(tadtree_topdom)[0], get_overlaps(tadtree_arrowhead)[0], get_overlaps(topdom_arrowhead)[0])\n",
    "print(get_overlaps(tadtree_topdom_arrowhead)[0])"
   ]
  },
  {
   "cell_type": "markdown",
   "metadata": {},
   "source": [
    "### Comparison with the CTCF peaks"
   ]
  },
  {
   "cell_type": "code",
   "execution_count": 11,
   "metadata": {},
   "outputs": [
    {
     "name": "stdout",
     "output_type": "stream",
     "text": [
      "Rate of similarity\n",
      "TadTree TopDom Arrowhead\n",
      "61.01 %  47.17 %  61.480000000000004 %\n",
      "The three consensus of two methods\n",
      "57.69 %  63.93 %  50.0 %\n",
      "The consensus of the three methods\n",
      "63.28 %\n"
     ]
    }
   ],
   "source": [
    "print('Rate of similarity')\n",
    "print('TadTree TopDom Arrowhead')\n",
    "print(evaluate(tadtree, l_peak_GM),'% ', evaluate(topdom, l_peak_GM),'% ', evaluate(true_results, l_peak_GM), '%')\n",
    "print('The three consensus of two methods')\n",
    "print(evaluate(tadtree_topdom, l_peak_GM),'% ', evaluate(tadtree_arrowhead, l_peak_GM),'% ', evaluate(topdom_arrowhead, l_peak_GM),'%')\n",
    "print('The consensus of the three methods')\n",
    "print(evaluate(tadtree_topdom_arrowhead, l_peak_GM),'%')"
   ]
  },
  {
   "cell_type": "markdown",
   "metadata": {},
   "source": [
    "## Tests of the consensus with smoothing"
   ]
  },
  {
   "cell_type": "code",
   "execution_count": 12,
   "metadata": {},
   "outputs": [],
   "source": [
    "tadtree_topdom = consensus2([tadtree, topdom], 100000)\n",
    "tadtree_arrowhead = consensus2([tadtree, true_results], 100000)\n",
    "topdom_arrowhead = consensus2([topdom, true_results], 100000)\n",
    "tadtree_topdom_arrowhead = consensus2([tadtree, topdom, true_results], 100000)"
   ]
  },
  {
   "cell_type": "markdown",
   "metadata": {},
   "source": [
    "### Number of overlaps"
   ]
  },
  {
   "cell_type": "code",
   "execution_count": 13,
   "metadata": {},
   "outputs": [
    {
     "name": "stdout",
     "output_type": "stream",
     "text": [
      "0 0 0\n",
      "0 24 0\n",
      "56\n"
     ]
    }
   ],
   "source": [
    "print(get_overlaps(tadtree)[0], get_overlaps(topdom)[0], get_overlaps(true_results)[0])\n",
    "print(get_overlaps(tadtree_topdom)[0], get_overlaps(tadtree_arrowhead)[0], get_overlaps(topdom_arrowhead)[0])\n",
    "print(get_overlaps(tadtree_topdom_arrowhead)[0])"
   ]
  },
  {
   "cell_type": "markdown",
   "metadata": {},
   "source": [
    "### Comparison with the CTCF peaks"
   ]
  },
  {
   "cell_type": "code",
   "execution_count": 14,
   "metadata": {},
   "outputs": [
    {
     "name": "stdout",
     "output_type": "stream",
     "text": [
      "Rate of similarity\n",
      "TadTree TopDom Arrowhead\n",
      "61.01 %  47.17 %  61.480000000000004 %\n",
      "The three consensus of two methods\n",
      "56.25 %  62.91 %  50.0 %\n",
      "The consensus of the three methods\n",
      "61.95 %\n"
     ]
    }
   ],
   "source": [
    "print('Rate of similarity')\n",
    "print('TadTree TopDom Arrowhead')\n",
    "print(evaluate(tadtree, l_peak_GM),'% ', evaluate(topdom, l_peak_GM),'% ', evaluate(true_results, l_peak_GM), '%')\n",
    "print('The three consensus of two methods')\n",
    "print(evaluate(tadtree_topdom, l_peak_GM),'% ', evaluate(tadtree_arrowhead, l_peak_GM),'% ', evaluate(topdom_arrowhead, l_peak_GM),'%')\n",
    "print('The consensus of the three methods')\n",
    "print(evaluate(tadtree_topdom_arrowhead, l_peak_GM),'%')"
   ]
  },
  {
   "cell_type": "code",
   "execution_count": null,
   "metadata": {},
   "outputs": [],
   "source": []
  }
 ],
 "metadata": {
  "kernelspec": {
   "display_name": "Python 3",
   "language": "python",
   "name": "python3"
  },
  "language_info": {
   "codemirror_mode": {
    "name": "ipython",
    "version": 3
   },
   "file_extension": ".py",
   "mimetype": "text/x-python",
   "name": "python",
   "nbconvert_exporter": "python",
   "pygments_lexer": "ipython3",
   "version": "3.8.5"
  }
 },
 "nbformat": 4,
 "nbformat_minor": 4
}
